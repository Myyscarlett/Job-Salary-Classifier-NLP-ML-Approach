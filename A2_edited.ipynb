{
 "cells": [
  {
   "cell_type": "code",
   "execution_count": 1,
   "metadata": {},
   "outputs": [
    {
     "name": "stdout",
     "output_type": "stream",
     "text": [
      "Requirement already satisfied: pandas in f:\\anaconda\\lib\\site-packages (2.2.2)\n",
      "Requirement already satisfied: numpy in f:\\anaconda\\lib\\site-packages (1.26.4)\n",
      "Requirement already satisfied: nltk in f:\\anaconda\\lib\\site-packages (3.8.1)\n",
      "Requirement already satisfied: seaborn in f:\\anaconda\\lib\\site-packages (0.13.2)\n",
      "Requirement already satisfied: matplotlib in f:\\anaconda\\lib\\site-packages (3.8.4)\n",
      "Requirement already satisfied: scikit-learn in f:\\anaconda\\lib\\site-packages (1.4.2)\n",
      "Requirement already satisfied: python-dateutil>=2.8.2 in f:\\anaconda\\lib\\site-packages (from pandas) (2.9.0.post0)\n",
      "Requirement already satisfied: pytz>=2020.1 in f:\\anaconda\\lib\\site-packages (from pandas) (2024.1)\n",
      "Requirement already satisfied: tzdata>=2022.7 in f:\\anaconda\\lib\\site-packages (from pandas) (2023.3)\n",
      "Requirement already satisfied: click in f:\\anaconda\\lib\\site-packages (from nltk) (8.1.7)\n",
      "Requirement already satisfied: joblib in f:\\anaconda\\lib\\site-packages (from nltk) (1.4.2)\n",
      "Requirement already satisfied: regex>=2021.8.3 in f:\\anaconda\\lib\\site-packages (from nltk) (2023.10.3)\n",
      "Requirement already satisfied: tqdm in f:\\anaconda\\lib\\site-packages (from nltk) (4.66.4)\n",
      "Requirement already satisfied: contourpy>=1.0.1 in f:\\anaconda\\lib\\site-packages (from matplotlib) (1.2.0)\n",
      "Requirement already satisfied: cycler>=0.10 in f:\\anaconda\\lib\\site-packages (from matplotlib) (0.11.0)\n",
      "Requirement already satisfied: fonttools>=4.22.0 in f:\\anaconda\\lib\\site-packages (from matplotlib) (4.51.0)\n",
      "Requirement already satisfied: kiwisolver>=1.3.1 in f:\\anaconda\\lib\\site-packages (from matplotlib) (1.4.4)\n",
      "Requirement already satisfied: packaging>=20.0 in f:\\anaconda\\lib\\site-packages (from matplotlib) (23.2)\n",
      "Requirement already satisfied: pillow>=8 in f:\\anaconda\\lib\\site-packages (from matplotlib) (10.3.0)\n",
      "Requirement already satisfied: pyparsing>=2.3.1 in f:\\anaconda\\lib\\site-packages (from matplotlib) (3.0.9)\n",
      "Requirement already satisfied: scipy>=1.6.0 in f:\\anaconda\\lib\\site-packages (from scikit-learn) (1.13.1)\n",
      "Requirement already satisfied: threadpoolctl>=2.0.0 in f:\\anaconda\\lib\\site-packages (from scikit-learn) (2.2.0)\n",
      "Requirement already satisfied: six>=1.5 in f:\\anaconda\\lib\\site-packages (from python-dateutil>=2.8.2->pandas) (1.16.0)\n",
      "Requirement already satisfied: colorama in f:\\anaconda\\lib\\site-packages (from click->nltk) (0.4.6)\n",
      "Note: you may need to restart the kernel to use updated packages.\n"
     ]
    }
   ],
   "source": [
    "pip install pandas numpy nltk seaborn matplotlib scikit-learn \n"
   ]
  },
  {
   "cell_type": "code",
   "execution_count": 2,
   "metadata": {},
   "outputs": [],
   "source": [
    "import pandas as pd\n",
    "import numpy as np\n",
    "import nltk\n",
    "import seaborn as sns\n",
    "import matplotlib.pyplot as plt\n",
    "from nltk.corpus import stopwords\n",
    "from nltk.tokenize import word_tokenize\n",
    "from nltk.stem import WordNetLemmatizer\n",
    "from sklearn.model_selection import train_test_split\n",
    "from sklearn.feature_extraction.text import TfidfVectorizer\n",
    "from sklearn.naive_bayes import MultinomialNB\n",
    "from sklearn.neighbors import KNeighborsClassifier\n",
    "from sklearn.metrics import accuracy_score, confusion_matrix"
   ]
  },
  {
   "cell_type": "code",
   "execution_count": 3,
   "metadata": {},
   "outputs": [
    {
     "name": "stderr",
     "output_type": "stream",
     "text": [
      "[nltk_data] Downloading package stopwords to\n",
      "[nltk_data]     C:\\Users\\huawei\\AppData\\Roaming\\nltk_data...\n",
      "[nltk_data]   Package stopwords is already up-to-date!\n",
      "[nltk_data] Downloading package punkt to\n",
      "[nltk_data]     C:\\Users\\huawei\\AppData\\Roaming\\nltk_data...\n",
      "[nltk_data]   Package punkt is already up-to-date!\n",
      "[nltk_data] Downloading package wordnet to\n",
      "[nltk_data]     C:\\Users\\huawei\\AppData\\Roaming\\nltk_data...\n",
      "[nltk_data]   Package wordnet is already up-to-date!\n"
     ]
    },
    {
     "data": {
      "text/plain": [
       "True"
      ]
     },
     "execution_count": 3,
     "metadata": {},
     "output_type": "execute_result"
    }
   ],
   "source": [
    "import nltk\n",
    "\n",
    "nltk.download('stopwords')\n",
    "nltk.download('punkt')\n",
    "nltk.download('wordnet')\n"
   ]
  },
  {
   "cell_type": "markdown",
   "metadata": {},
   "source": [
    "Load dataset and split in 20 80"
   ]
  },
  {
   "cell_type": "code",
   "execution_count": 4,
   "metadata": {},
   "outputs": [],
   "source": [
    "# Load dataset \n",
    "df = pd.read_csv(\"D:/Scarlett/All/Mcgill/Courses/Winter/Text analysis/Assignment2/Train_rev1.csv\")\n",
    "\n",
    "# Randomly sample 2500 rows\n",
    "df_sample = df.sample(n=2500, random_state=42)\n",
    "\n",
    "# Define high vs. low salary threshold (75th percentile)\n",
    "salary_threshold = df_sample['SalaryNormalized'].quantile(0.75)\n",
    "df_sample['HighSalary'] = (df_sample['SalaryNormalized'] > salary_threshold).astype(int)\n",
    "\n",
    "# Split dataset\n",
    "train_data, test_data = train_test_split(df_sample, test_size=0.2, random_state=42)\n"
   ]
  },
  {
   "cell_type": "markdown",
   "metadata": {},
   "source": [
    "Preprocessing and convert to numerical features"
   ]
  },
  {
   "cell_type": "code",
   "execution_count": 5,
   "metadata": {},
   "outputs": [],
   "source": [
    "# Preprocessing\n",
    "def preprocess_text(text):\n",
    "    stop_words = set(stopwords.words('english'))\n",
    "    lemmatizer = WordNetLemmatizer()\n",
    "    words = word_tokenize(str(text).lower())\n",
    "    words = [lemmatizer.lemmatize(word) for word in words if word.isalnum() and word not in stop_words]\n",
    "    return \" \".join(words)\n",
    "\n",
    "df_sample['ProcessedDescription'] = df_sample['FullDescription'].apply(preprocess_text)\n",
    "\n",
    "# Convert salary into binary classes (high salary vs. low salary)\n",
    "salary_threshold = df_sample['SalaryNormalized'].quantile(0.75)\n",
    "df_sample['SalaryClass'] = (df_sample['SalaryNormalized'] >= salary_threshold).astype(int)\n",
    "\n",
    "# Split into train & test sets\n",
    "X = df_sample['ProcessedDescription']\n",
    "y = df_sample['SalaryClass']\n",
    "X_train, X_test, y_train, y_test = train_test_split(X, y, test_size=0.2, random_state=42)\n",
    "\n",
    "# Convert text to numerical features (TF-IDF)\n",
    "tfidf = TfidfVectorizer(max_features=2000, min_df=2)\n",
    "X_train_tfidf = tfidf.fit_transform(X_train)\n",
    "X_test_tfidf = tfidf.transform(X_test)"
   ]
  },
  {
   "cell_type": "markdown",
   "metadata": {},
   "source": [
    "Train Naive Bayes"
   ]
  },
  {
   "cell_type": "code",
   "execution_count": 7,
   "metadata": {},
   "outputs": [
    {
     "name": "stdout",
     "output_type": "stream",
     "text": [
      "Naïve Bayes Accuracy: 0.7800\n"
     ]
    }
   ],
   "source": [
    "# Train Naive Bayes model\n",
    "nb_model = MultinomialNB()\n",
    "nb_model.fit(X_train_tfidf, y_train)\n",
    "y_pred_nb = nb_model.predict(X_test_tfidf)\n",
    "nb_accuracy = accuracy_score(y_test, y_pred_nb)\n",
    "print(f'Naïve Bayes Accuracy: {nb_accuracy:.4f}')"
   ]
  },
  {
   "cell_type": "markdown",
   "metadata": {},
   "source": [
    "Train KNN"
   ]
  },
  {
   "cell_type": "code",
   "execution_count": 8,
   "metadata": {},
   "outputs": [
    {
     "name": "stdout",
     "output_type": "stream",
     "text": [
      "KNN (k=9) Accuracy: 0.7680\n"
     ]
    }
   ],
   "source": [
    "# Train KNN model with optimal k\n",
    "def tune_knn(k_values):\n",
    "    best_k, best_acc = 0, 0\n",
    "    for k in k_values:\n",
    "        knn = KNeighborsClassifier(n_neighbors=k)\n",
    "        knn.fit(X_train_tfidf, y_train)\n",
    "        acc = accuracy_score(y_test, knn.predict(X_test_tfidf))\n",
    "        if acc > best_acc:\n",
    "            best_k, best_acc = k, acc\n",
    "    return best_k, best_acc\n",
    "best_k, knn_accuracy = tune_knn(range(3, 21, 2))\n",
    "knn_model = KNeighborsClassifier(n_neighbors=best_k)\n",
    "knn_model.fit(X_train_tfidf, y_train)\n",
    "y_pred_knn = knn_model.predict(X_test_tfidf)\n",
    "print(f'KNN (k={best_k}) Accuracy: {knn_accuracy:.4f}')"
   ]
  },
  {
   "cell_type": "markdown",
   "metadata": {},
   "source": [
    "Tunning Naive Bayes"
   ]
  },
  {
   "cell_type": "code",
   "execution_count": 11,
   "metadata": {},
   "outputs": [
    {
     "name": "stdout",
     "output_type": "stream",
     "text": [
      "Best alpha: 0.12\n",
      "Best accuracy: 0.7955\n"
     ]
    }
   ],
   "source": [
    "from sklearn.model_selection import GridSearchCV\n",
    "from sklearn.naive_bayes import MultinomialNB\n",
    "import numpy as np\n",
    "\n",
    "# Define possible values for alpha\n",
    "param_grid = {'alpha': np.linspace(0.01, 1, 10)}\n",
    "\n",
    "# Initialize the Naïve Bayes classifier\n",
    "nb = MultinomialNB()\n",
    "\n",
    "# Use GridSearchCV to find the best alpha\n",
    "best_accuracy_Naive = GridSearchCV(nb, param_grid, cv=5, scoring='accuracy')\n",
    "best_accuracy_Naive.fit(X_train_tfidf, y_train)\n",
    "\n",
    "# Get the best model and alpha\n",
    "best_alpha = best_accuracy_Naive.best_params_['alpha']\n",
    "best_nb = best_accuracy_Naive.best_estimator_\n",
    "best_accuracy_NaiveBayes = best_accuracy_Naive.best_score_  # Corrected this line\n",
    "\n",
    "# Print results\n",
    "print(f\"Best alpha: {best_alpha}\")\n",
    "print(f\"Best accuracy: {best_accuracy_NaiveBayes:.4f}\")\n"
   ]
  },
  {
   "cell_type": "markdown",
   "metadata": {},
   "source": [
    "Tunning KNN"
   ]
  },
  {
   "cell_type": "code",
   "execution_count": 12,
   "metadata": {},
   "outputs": [
    {
     "name": "stdout",
     "output_type": "stream",
     "text": [
      "Best k: 13\n",
      "Best weights: distance\n",
      "Best p: 2\n",
      "Best accuracy: 0.7845\n"
     ]
    }
   ],
   "source": [
    "from sklearn.model_selection import GridSearchCV\n",
    "from sklearn.neighbors import KNeighborsClassifier\n",
    "\n",
    "param_grid = {\n",
    "    'n_neighbors': range(1, 50, 2),  # Try odd values for k\n",
    "    'weights': ['uniform', 'distance'],\n",
    "    'p': [1, 2]  # Manhattan vs. Euclidean distance\n",
    "}\n",
    "\n",
    "knn = KNeighborsClassifier()\n",
    "best_accuracy_KN= GridSearchCV(knn, param_grid, cv=5, scoring='accuracy', n_jobs=-1)\n",
    "best_accuracy_KN.fit(X_train_tfidf, y_train)\n",
    "best_accuracy_KNN= best_accuracy_KN.best_score_\n",
    "print(f\"Best k: {best_accuracy_KN.best_params_['n_neighbors']}\")\n",
    "print(f\"Best weights: {best_accuracy_KN.best_params_['weights']}\")\n",
    "print(f\"Best p: {best_accuracy_KN.best_params_['p']}\")\n",
    "print(f\"Best accuracy: {best_accuracy_KNN:.4f}\")\n"
   ]
  },
  {
   "cell_type": "markdown",
   "metadata": {},
   "source": [
    "Train Logistic Regression"
   ]
  },
  {
   "cell_type": "code",
   "execution_count": 13,
   "metadata": {},
   "outputs": [
    {
     "name": "stdout",
     "output_type": "stream",
     "text": [
      "Logistic Regression Accuracy: 0.788\n"
     ]
    }
   ],
   "source": [
    "from sklearn.linear_model import LogisticRegression\n",
    "\n",
    "log_reg = LogisticRegression(max_iter=1000)\n",
    "log_reg.fit(X_train_tfidf, y_train)\n",
    "y_pred_log_reg = log_reg.predict(X_test_tfidf)\n",
    "\n",
    "accuracy_log_reg = accuracy_score(y_test, y_pred_log_reg)\n",
    "print(\"Logistic Regression Accuracy:\", accuracy_log_reg)\n"
   ]
  },
  {
   "cell_type": "markdown",
   "metadata": {},
   "source": [
    "Tunning Logistic Regression"
   ]
  },
  {
   "cell_type": "code",
   "execution_count": 14,
   "metadata": {},
   "outputs": [
    {
     "name": "stdout",
     "output_type": "stream",
     "text": [
      "Best C for Logistic Regression: 10\n",
      "Best Accuracy: 0.8040\n"
     ]
    }
   ],
   "source": [
    "from sklearn.linear_model import LogisticRegression\n",
    "from sklearn.model_selection import GridSearchCV\n",
    "\n",
    "# Define parameter grid\n",
    "param_grid = {'C': [0.001, 0.01, 0.1, 1, 10, 100]}\n",
    "\n",
    "# Initialize model\n",
    "log_reg = LogisticRegression(max_iter=1000)\n",
    "\n",
    "# Perform grid search\n",
    "grid_search = GridSearchCV(log_reg, param_grid, cv=5, scoring='accuracy', n_jobs=-1)\n",
    "grid_search.fit(X_train_tfidf, y_train)\n",
    "\n",
    "# Best parameter and accuracy\n",
    "best_C = grid_search.best_params_['C']\n",
    "best_accuracy_log_reg = grid_search.best_score_\n",
    "\n",
    "print(f\"Best C for Logistic Regression: {best_C}\")\n",
    "print(f\"Best Accuracy: {best_accuracy_log_reg:.4f}\")\n"
   ]
  },
  {
   "cell_type": "markdown",
   "metadata": {},
   "source": [
    "Train SVM"
   ]
  },
  {
   "cell_type": "code",
   "execution_count": 15,
   "metadata": {},
   "outputs": [
    {
     "name": "stdout",
     "output_type": "stream",
     "text": [
      "SVM Accuracy: 0.796\n"
     ]
    }
   ],
   "source": [
    "from sklearn.svm import SVC\n",
    "\n",
    "svm = SVC(kernel='linear', C=1.0)  # Try different C values for tuning\n",
    "svm.fit(X_train_tfidf, y_train)\n",
    "y_pred_svm = svm.predict(X_test_tfidf)\n",
    "\n",
    "accuracy_svm = accuracy_score(y_test, y_pred_svm)\n",
    "print(\"SVM Accuracy:\", accuracy_svm)\n"
   ]
  },
  {
   "cell_type": "markdown",
   "metadata": {},
   "source": [
    "Tunning SVM"
   ]
  },
  {
   "cell_type": "code",
   "execution_count": 16,
   "metadata": {},
   "outputs": [
    {
     "name": "stdout",
     "output_type": "stream",
     "text": [
      "Best C for SVM: 1\n",
      "Best Kernel for SVM: linear\n",
      "Best Accuracy: 0.8080\n"
     ]
    }
   ],
   "source": [
    "from sklearn.svm import SVC\n",
    "\n",
    "param_grid = {\n",
    "    'C': [0.01, 0.1, 1, 10, 100], \n",
    "    'kernel': ['linear', 'rbf']\n",
    "}\n",
    "\n",
    "grid_search = GridSearchCV(SVC(), param_grid, cv=5, scoring='accuracy', n_jobs=-1)\n",
    "grid_search.fit(X_train_tfidf, y_train)\n",
    "\n",
    "best_C_svm = grid_search.best_params_['C']\n",
    "best_kernel = grid_search.best_params_['kernel']\n",
    "best_accuracy_svm = grid_search.best_score_\n",
    "\n",
    "print(f\"Best C for SVM: {best_C_svm}\")\n",
    "print(f\"Best Kernel for SVM: {best_kernel}\")\n",
    "print(f\"Best Accuracy: {best_accuracy_svm:.4f}\")\n"
   ]
  },
  {
   "cell_type": "markdown",
   "metadata": {},
   "source": [
    "Train RF"
   ]
  },
  {
   "cell_type": "code",
   "execution_count": 17,
   "metadata": {},
   "outputs": [
    {
     "name": "stdout",
     "output_type": "stream",
     "text": [
      "Random Forest Accuracy: 0.76\n"
     ]
    }
   ],
   "source": [
    "from sklearn.ensemble import RandomForestClassifier\n",
    "\n",
    "rf = RandomForestClassifier(n_estimators=100, random_state=42)\n",
    "rf.fit(X_train_tfidf, y_train)\n",
    "y_pred_rf = rf.predict(X_test_tfidf)\n",
    "\n",
    "accuracy_rf = accuracy_score(y_test, y_pred_rf)\n",
    "print(\"Random Forest Accuracy:\", accuracy_rf)\n"
   ]
  },
  {
   "cell_type": "markdown",
   "metadata": {},
   "source": [
    "Tunning RF"
   ]
  },
  {
   "cell_type": "code",
   "execution_count": 18,
   "metadata": {},
   "outputs": [
    {
     "name": "stdout",
     "output_type": "stream",
     "text": [
      "Best n_estimators for Random Forest: 200\n",
      "Best max_depth for Random Forest: 30\n",
      "Best Accuracy: 0.7720\n"
     ]
    }
   ],
   "source": [
    "from sklearn.ensemble import RandomForestClassifier\n",
    "\n",
    "param_grid = {\n",
    "    'n_estimators': [50, 100, 200],\n",
    "    'max_depth': [10, 20, 30, None]\n",
    "}\n",
    "\n",
    "grid_search = GridSearchCV(RandomForestClassifier(random_state=42), param_grid, cv=5, scoring='accuracy', n_jobs=-1)\n",
    "grid_search.fit(X_train_tfidf, y_train)\n",
    "\n",
    "best_n_estimators = grid_search.best_params_['n_estimators']\n",
    "best_max_depth = grid_search.best_params_['max_depth']\n",
    "best_accuracy_rf = grid_search.best_score_\n",
    "\n",
    "print(f\"Best n_estimators for Random Forest: {best_n_estimators}\")\n",
    "print(f\"Best max_depth for Random Forest: {best_max_depth}\")\n",
    "print(f\"Best Accuracy: {best_accuracy_rf:.4f}\")\n"
   ]
  },
  {
   "cell_type": "markdown",
   "metadata": {},
   "source": [
    "Compare models"
   ]
  },
  {
   "cell_type": "code",
   "execution_count": 19,
   "metadata": {},
   "outputs": [
    {
     "data": {
      "image/png": "[encoded data removed]",
      "text/plain": [
       "<Figure size 800x500 with 1 Axes>"
      ]
     },
     "metadata": {},
     "output_type": "display_data"
    }
   ],
   "source": [
    "import matplotlib.pyplot as plt\n",
    "\n",
    "\n",
    "# List of models and their corresponding accuracy scores\n",
    "models = ['KNN', 'Naive Bayes', 'Logistic Regression', 'SVM', 'Random Forest']\n",
    "accuracies = [best_accuracy_KNN, best_accuracy_NaiveBayes, best_accuracy_log_reg, best_accuracy_svm, best_accuracy_rf]\n",
    "\n",
    "# Create a bar plot for the accuracy scores\n",
    "plt.figure(figsize=(8, 5))\n",
    "bars = plt.bar(models, accuracies, color=['blue', 'orange', 'green', 'red', 'purple'])\n",
    "\n",
    "# Add the accuracy numbers on top of the bars\n",
    "for bar in bars:\n",
    "    yval = bar.get_height()\n",
    "    plt.text(bar.get_x() + bar.get_width() / 2, yval + 0.01, round(yval, 2), ha='center', va='bottom')\n",
    "\n",
    "# Labeling the axes and title\n",
    "plt.xlabel('Model')\n",
    "plt.ylabel('Accuracy Score')\n",
    "plt.title('Accuracy Scores for Different Models')\n",
    "plt.ylim(0, 1)  # Set the y-axis to range from 0 to 1, since accuracy is between 0 and 1\n",
    "plt.show()\n"
   ]
  },
  {
   "cell_type": "code",
   "execution_count": 20,
   "metadata": {},
   "outputs": [
    {
     "data": {
      "image/png": "[encoded data removed]",
      "text/plain": [
       "<Figure size 600x500 with 2 Axes>"
      ]
     },
     "metadata": {},
     "output_type": "display_data"
    },
    {
     "name": "stdout",
     "output_type": "stream",
     "text": [
      "Top 10 words for high salary: ['senior' 'strategic' 'lead' 'social' 'director' 'global' 'partner'\n",
      " 'leadership' 'project' 'head']\n",
      "Top 10 words for low salary: ['well' 'travel' 'assistant' 'manufacturing' 'wcf' 'hour' 'charity'\n",
      " 'database' 'applicant' 'customer']\n"
     ]
    }
   ],
   "source": [
    "# Confusion Matrix for SVM\n",
    "plt.figure(figsize=(6, 5))\n",
    "sns.heatmap(confusion_matrix(y_test, y_pred_svm), annot=True, fmt='d', cmap='Blues')\n",
    "plt.title(f'SVM Confusion Matrix (C={best_C_svm}, Kernel={best_kernel})')\n",
    "plt.xlabel(\"Predicted Label\")\n",
    "plt.ylabel(\"True Label\")\n",
    "plt.show()\n",
    "\n",
    "# Extract top words indicative of high & low salary using SVM coefficients\n",
    "feature_names = np.array(tfidf.get_feature_names_out())\n",
    "svm_coef = svm.coef_.toarray()  # Get the coefficients for the SVM model\n",
    "\n",
    "def get_top_words_svm(class_idx, top_n=10):\n",
    "    # For binary classification, svm.coef_ has shape (1, n_features), \n",
    "    # We want to access the coefficients corresponding to the high salary and low salary classes\n",
    "    if class_idx == 1:  # High salary (class 1)\n",
    "        sorted_idx = np.argsort(svm_coef[0])[-top_n:]  # Sort by highest coefficient (positive)\n",
    "    else:  # Low salary (class 0)\n",
    "        sorted_idx = np.argsort(svm_coef[0])[:top_n]  # Sort by lowest coefficient (negative)\n",
    "    \n",
    "    return feature_names[sorted_idx][::-1]  # Reverse to show most important first\n",
    "\n",
    "# Extract top 10 words for high salary and low salary\n",
    "top_high_salary_words = get_top_words_svm(1)  # Class 1 → High salary\n",
    "top_low_salary_words = get_top_words_svm(0)   # Class 0 → Low salary\n",
    "\n",
    "print(\"Top 10 words for high salary:\", top_high_salary_words)\n",
    "print(\"Top 10 words for low salary:\", top_low_salary_words)\n"
   ]
  }
 ],
 "metadata": {
  "kernelspec": {
   "display_name": "base",
   "language": "python",
   "name": "python3"
  },
  "language_info": {
   "codemirror_mode": {
    "name": "ipython",
    "version": 3
   },
   "file_extension": ".py",
   "mimetype": "text/x-python",
   "name": "python",
   "nbconvert_exporter": "python",
   "pygments_lexer": "ipython3",
   "version": "3.12.4"
  }
 },
 "nbformat": 4,
 "nbformat_minor": 2
}
